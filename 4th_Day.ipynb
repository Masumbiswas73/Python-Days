{
  "nbformat": 4,
  "nbformat_minor": 0,
  "metadata": {
    "colab": {
      "provenance": []
    },
    "kernelspec": {
      "name": "python3",
      "display_name": "Python 3"
    },
    "language_info": {
      "name": "python"
    }
  },
  "cells": [
    {
      "cell_type": "markdown",
      "source": [
        "Loop"
      ],
      "metadata": {
        "id": "4evVRRp7TBGc"
      }
    },
    {
      "cell_type": "code",
      "source": [
        "data = 'python'"
      ],
      "metadata": {
        "id": "QfUDuw7STB_B"
      },
      "execution_count": null,
      "outputs": []
    },
    {
      "cell_type": "code",
      "source": [
        "data[0]"
      ],
      "metadata": {
        "colab": {
          "base_uri": "https://localhost:8080/",
          "height": 35
        },
        "id": "T_Ks4bc6cv7p",
        "outputId": "4b047ade-575c-4705-9fc7-190fee4465da"
      },
      "execution_count": null,
      "outputs": [
        {
          "output_type": "execute_result",
          "data": {
            "text/plain": [
              "'p'"
            ],
            "application/vnd.google.colaboratory.intrinsic+json": {
              "type": "string"
            }
          },
          "metadata": {},
          "execution_count": 2
        }
      ]
    },
    {
      "cell_type": "code",
      "source": [
        "data[-1]"
      ],
      "metadata": {
        "colab": {
          "base_uri": "https://localhost:8080/",
          "height": 35
        },
        "id": "3RbpiirwggUP",
        "outputId": "529543d3-1a0c-4738-87d3-38d2c4afa702"
      },
      "execution_count": null,
      "outputs": [
        {
          "output_type": "execute_result",
          "data": {
            "text/plain": [
              "'n'"
            ],
            "application/vnd.google.colaboratory.intrinsic+json": {
              "type": "string"
            }
          },
          "metadata": {},
          "execution_count": 3
        }
      ]
    },
    {
      "cell_type": "code",
      "source": [
        "for x in data:\n",
        "  print(x,'x')"
      ],
      "metadata": {
        "colab": {
          "base_uri": "https://localhost:8080/"
        },
        "id": "g-aaoI3ngmar",
        "outputId": "51221d09-b1a8-45dc-e9d7-635084c60ddf"
      },
      "execution_count": null,
      "outputs": [
        {
          "output_type": "stream",
          "name": "stdout",
          "text": [
            "p x\n",
            "y x\n",
            "t x\n",
            "h x\n",
            "o x\n",
            "n x\n"
          ]
        }
      ]
    },
    {
      "cell_type": "code",
      "source": [
        "range(10)"
      ],
      "metadata": {
        "colab": {
          "base_uri": "https://localhost:8080/"
        },
        "id": "_vdWoGRjgmYQ",
        "outputId": "2642c4c1-9119-4d11-d0d3-50f6b4b591d4"
      },
      "execution_count": null,
      "outputs": [
        {
          "output_type": "execute_result",
          "data": {
            "text/plain": [
              "range(0, 10)"
            ]
          },
          "metadata": {},
          "execution_count": 6
        }
      ]
    },
    {
      "cell_type": "code",
      "source": [
        "for x in range(len(data)):\n",
        "  print(data[x])"
      ],
      "metadata": {
        "colab": {
          "base_uri": "https://localhost:8080/"
        },
        "id": "awvcJg5tgmUR",
        "outputId": "5a1dbecd-b4e6-42cd-9294-c98ce2f886d9"
      },
      "execution_count": null,
      "outputs": [
        {
          "output_type": "stream",
          "name": "stdout",
          "text": [
            "p\n",
            "y\n",
            "t\n",
            "h\n",
            "o\n",
            "n\n"
          ]
        }
      ]
    },
    {
      "cell_type": "code",
      "source": [
        "len(data)"
      ],
      "metadata": {
        "colab": {
          "base_uri": "https://localhost:8080/"
        },
        "id": "DLhud6TlhrkF",
        "outputId": "3f080326-d25b-4418-d286-fcf84e0907aa"
      },
      "execution_count": null,
      "outputs": [
        {
          "output_type": "execute_result",
          "data": {
            "text/plain": [
              "6"
            ]
          },
          "metadata": {},
          "execution_count": 9
        }
      ]
    },
    {
      "cell_type": "code",
      "source": [
        "num = ['1','2','3','4','5','6']\n",
        "for i in range(len(num)):\n",
        "  print(num)"
      ],
      "metadata": {
        "colab": {
          "base_uri": "https://localhost:8080/"
        },
        "id": "ksAn6Hichwyy",
        "outputId": "68e21b5a-b951-431b-cc95-35e1b449dec2"
      },
      "execution_count": null,
      "outputs": [
        {
          "output_type": "stream",
          "name": "stdout",
          "text": [
            "['1', '2', '3', '4', '5', '6']\n",
            "['1', '2', '3', '4', '5', '6']\n",
            "['1', '2', '3', '4', '5', '6']\n",
            "['1', '2', '3', '4', '5', '6']\n",
            "['1', '2', '3', '4', '5', '6']\n",
            "['1', '2', '3', '4', '5', '6']\n"
          ]
        }
      ]
    },
    {
      "cell_type": "code",
      "source": [
        "num = ['1','2','3','4','5','6']\n",
        "for i in range(len(num)):\n",
        "  print(num[i])\n",
        "   "
      ],
      "metadata": {
        "colab": {
          "base_uri": "https://localhost:8080/"
        },
        "id": "A-_0slFthwru",
        "outputId": "07c5d58d-94b3-4577-8a26-d4e31dbe54ac"
      },
      "execution_count": null,
      "outputs": [
        {
          "output_type": "stream",
          "name": "stdout",
          "text": [
            "1\n",
            "2\n",
            "3\n",
            "4\n",
            "5\n",
            "6\n"
          ]
        }
      ]
    },
    {
      "cell_type": "code",
      "source": [
        "\n",
        "data = 'I am a student'\n",
        "for x in range(len(data)):\n",
        "   print(data[x])\n",
        "\n",
        "data.split()\n",
        "for i in range(len(data)):\n",
        "  print(data[i],i)"
      ],
      "metadata": {
        "colab": {
          "base_uri": "https://localhost:8080/"
        },
        "id": "PtHqrIr7jbS0",
        "outputId": "ee1feb57-b415-4814-c8bd-d61d86ff6d3b"
      },
      "execution_count": null,
      "outputs": [
        {
          "output_type": "stream",
          "name": "stdout",
          "text": [
            "I\n",
            " \n",
            "a\n",
            "m\n",
            " \n",
            "a\n",
            " \n",
            "s\n",
            "t\n",
            "u\n",
            "d\n",
            "e\n",
            "n\n",
            "t\n",
            "I 0\n",
            "  1\n",
            "a 2\n",
            "m 3\n",
            "  4\n",
            "a 5\n",
            "  6\n",
            "s 7\n",
            "t 8\n",
            "u 9\n",
            "d 10\n",
            "e 11\n",
            "n 12\n",
            "t 13\n"
          ]
        }
      ]
    },
    {
      "cell_type": "code",
      "source": [
        "n= [2,3,4,55,66,88,32]\n",
        "total = 0\n",
        "for x in n:\n",
        "  total = total+x\n",
        "  #print(total,x)\n",
        "  print('Total',total)"
      ],
      "metadata": {
        "colab": {
          "base_uri": "https://localhost:8080/"
        },
        "id": "4oekPKMbja_A",
        "outputId": "349d253a-e25d-4021-93a7-76f088bd63c4"
      },
      "execution_count": null,
      "outputs": [
        {
          "output_type": "stream",
          "name": "stdout",
          "text": [
            "Total 2\n",
            "Total 5\n",
            "Total 9\n",
            "Total 64\n",
            "Total 130\n",
            "Total 218\n",
            "Total 250\n"
          ]
        }
      ]
    },
    {
      "cell_type": "code",
      "source": [
        "for i in range(10):\n",
        "  print('Data science')"
      ],
      "metadata": {
        "colab": {
          "base_uri": "https://localhost:8080/"
        },
        "id": "pcZWfzYOja8P",
        "outputId": "380b2d57-41ae-4d56-f133-40b310722e24"
      },
      "execution_count": null,
      "outputs": [
        {
          "output_type": "stream",
          "name": "stdout",
          "text": [
            "Data science\n",
            "Data science\n",
            "Data science\n",
            "Data science\n",
            "Data science\n",
            "Data science\n",
            "Data science\n",
            "Data science\n",
            "Data science\n",
            "Data science\n"
          ]
        }
      ]
    },
    {
      "cell_type": "code",
      "source": [
        "for i in range(10):\n",
        "  print('Data science',i)"
      ],
      "metadata": {
        "colab": {
          "base_uri": "https://localhost:8080/"
        },
        "id": "i-9kzJUkja5I",
        "outputId": "1b291fee-5fcc-4270-d619-a5f2defbb5e8"
      },
      "execution_count": null,
      "outputs": [
        {
          "output_type": "stream",
          "name": "stdout",
          "text": [
            "Data science 0\n",
            "Data science 1\n",
            "Data science 2\n",
            "Data science 3\n",
            "Data science 4\n",
            "Data science 5\n",
            "Data science 6\n",
            "Data science 7\n",
            "Data science 8\n",
            "Data science 9\n"
          ]
        }
      ]
    },
    {
      "cell_type": "code",
      "source": [
        "for i in range(5,10):\n",
        "  print('Data science',i)\n",
        "\n"
      ],
      "metadata": {
        "colab": {
          "base_uri": "https://localhost:8080/"
        },
        "id": "dL5MqXiDja19",
        "outputId": "d504e42f-9f75-454d-ffc8-f97255898ee4"
      },
      "execution_count": null,
      "outputs": [
        {
          "output_type": "stream",
          "name": "stdout",
          "text": [
            "Data science 5\n",
            "Data science 6\n",
            "Data science 7\n",
            "Data science 8\n",
            "Data science 9\n"
          ]
        }
      ]
    },
    {
      "cell_type": "code",
      "source": [
        "for i in range(4,10,2):\n",
        "  print('Data science',i)"
      ],
      "metadata": {
        "colab": {
          "base_uri": "https://localhost:8080/"
        },
        "id": "BLCY1kQurifx",
        "outputId": "d9ae44b6-9e01-47ed-e1ae-649d61877928"
      },
      "execution_count": null,
      "outputs": [
        {
          "output_type": "stream",
          "name": "stdout",
          "text": [
            "Data science 4\n",
            "Data science 6\n",
            "Data science 8\n"
          ]
        }
      ]
    },
    {
      "cell_type": "code",
      "source": [
        "for i in range(50,10,-5):\n",
        "  print('Data science',i)"
      ],
      "metadata": {
        "colab": {
          "base_uri": "https://localhost:8080/"
        },
        "id": "GpNp6V_vrud_",
        "outputId": "ee424f43-6490-4ad5-994a-d26f636b4cbc"
      },
      "execution_count": null,
      "outputs": [
        {
          "output_type": "stream",
          "name": "stdout",
          "text": [
            "Data science 50\n",
            "Data science 45\n",
            "Data science 40\n",
            "Data science 35\n",
            "Data science 30\n",
            "Data science 25\n",
            "Data science 20\n",
            "Data science 15\n"
          ]
        }
      ]
    },
    {
      "cell_type": "markdown",
      "source": [
        "While loop"
      ],
      "metadata": {
        "id": "gf7N1qEzshjX"
      }
    },
    {
      "cell_type": "code",
      "source": [
        "i = 0\n",
        "while (i<=10):\n",
        "  print(i)\n",
        "  i +=1 #i =i+1\n",
        "  "
      ],
      "metadata": {
        "colab": {
          "base_uri": "https://localhost:8080/"
        },
        "id": "R8xByog-ruaL",
        "outputId": "fc58dbe0-1124-453e-9aa1-5988071c78ee"
      },
      "execution_count": null,
      "outputs": [
        {
          "output_type": "stream",
          "name": "stdout",
          "text": [
            "0\n",
            "1\n",
            "2\n",
            "3\n",
            "4\n",
            "5\n",
            "6\n",
            "7\n",
            "8\n",
            "9\n",
            "10\n"
          ]
        }
      ]
    },
    {
      "cell_type": "code",
      "source": [
        "i = 2\n",
        "while (i<=10):\n",
        "  print(i,'Masum Utsso')\n",
        "  i +=1 #i =i+1"
      ],
      "metadata": {
        "colab": {
          "base_uri": "https://localhost:8080/"
        },
        "id": "wpW96GLzruV_",
        "outputId": "32aaa40e-962d-490a-d505-3c1d5a73d52d"
      },
      "execution_count": null,
      "outputs": [
        {
          "output_type": "stream",
          "name": "stdout",
          "text": [
            "2 Masum Utsso\n",
            "3 Masum Utsso\n",
            "4 Masum Utsso\n",
            "5 Masum Utsso\n",
            "6 Masum Utsso\n",
            "7 Masum Utsso\n",
            "8 Masum Utsso\n",
            "9 Masum Utsso\n",
            "10 Masum Utsso\n"
          ]
        }
      ]
    },
    {
      "cell_type": "code",
      "source": [
        "i = 1\n",
        "while (i<=10):\n",
        "  print(i,'Masum Utsso')\n",
        "  i +=2"
      ],
      "metadata": {
        "colab": {
          "base_uri": "https://localhost:8080/"
        },
        "id": "0swTS-qLruQt",
        "outputId": "aa5bdc23-7793-4d95-dafc-695e688b7edc"
      },
      "execution_count": null,
      "outputs": [
        {
          "output_type": "stream",
          "name": "stdout",
          "text": [
            "1 Masum Utsso\n",
            "3 Masum Utsso\n",
            "5 Masum Utsso\n",
            "7 Masum Utsso\n",
            "9 Masum Utsso\n"
          ]
        }
      ]
    },
    {
      "cell_type": "code",
      "source": [
        "data ='Masum UTSSO'\n",
        "data[0]"
      ],
      "metadata": {
        "colab": {
          "base_uri": "https://localhost:8080/",
          "height": 35
        },
        "id": "Cku8Q7kjruNZ",
        "outputId": "79175978-eeee-4220-dc3d-a600a321b481"
      },
      "execution_count": null,
      "outputs": [
        {
          "output_type": "execute_result",
          "data": {
            "text/plain": [
              "'M'"
            ],
            "application/vnd.google.colaboratory.intrinsic+json": {
              "type": "string"
            }
          },
          "metadata": {},
          "execution_count": 67
        }
      ]
    },
    {
      "cell_type": "code",
      "source": [
        "index = 0\n",
        "while index<len(data):\n",
        "  print(data[index])\n",
        "  index  = index+1"
      ],
      "metadata": {
        "colab": {
          "base_uri": "https://localhost:8080/"
        },
        "id": "aIVxnDlntZk3",
        "outputId": "d7749119-2c8c-40c5-cb9e-8031e222ffa6"
      },
      "execution_count": null,
      "outputs": [
        {
          "output_type": "stream",
          "name": "stdout",
          "text": [
            "M\n",
            "a\n",
            "s\n",
            "u\n",
            "m\n",
            " \n",
            "U\n",
            "T\n",
            "S\n",
            "S\n",
            "O\n"
          ]
        }
      ]
    },
    {
      "cell_type": "code",
      "source": [
        "data.split()"
      ],
      "metadata": {
        "colab": {
          "base_uri": "https://localhost:8080/"
        },
        "id": "ME0H-np4tZcn",
        "outputId": "984039cb-e9dc-4110-8bd8-44c6884941e0"
      },
      "execution_count": null,
      "outputs": [
        {
          "output_type": "execute_result",
          "data": {
            "text/plain": [
              "['Masum', 'UTSSO']"
            ]
          },
          "metadata": {},
          "execution_count": 69
        }
      ]
    },
    {
      "cell_type": "code",
      "source": [
        "data[-1]"
      ],
      "metadata": {
        "colab": {
          "base_uri": "https://localhost:8080/",
          "height": 35
        },
        "id": "3WgcxOq7y2AF",
        "outputId": "91a688a3-3fa2-4e71-e8a3-a18bf565618b"
      },
      "execution_count": null,
      "outputs": [
        {
          "output_type": "execute_result",
          "data": {
            "text/plain": [
              "'O'"
            ],
            "application/vnd.google.colaboratory.intrinsic+json": {
              "type": "string"
            }
          },
          "metadata": {},
          "execution_count": 70
        }
      ]
    },
    {
      "cell_type": "code",
      "source": [
        "n=[2,4,56,55,33,77]\n",
        "total = 0\n",
        "index=0\n",
        "while(index<len(n)):\n",
        "  total = total +n[index]\n",
        "  print(index,total)\n",
        "  index+= 1"
      ],
      "metadata": {
        "colab": {
          "base_uri": "https://localhost:8080/"
        },
        "id": "hXEAz5x4y15O",
        "outputId": "99fa61ac-603f-46d5-bc70-5d3a36b2b881"
      },
      "execution_count": null,
      "outputs": [
        {
          "output_type": "stream",
          "name": "stdout",
          "text": [
            "0 2\n",
            "1 6\n",
            "2 62\n",
            "3 117\n",
            "4 150\n",
            "5 227\n"
          ]
        }
      ]
    },
    {
      "cell_type": "markdown",
      "source": [
        "nested loop"
      ],
      "metadata": {
        "id": "hvi7ZYMhzsNb"
      }
    },
    {
      "cell_type": "code",
      "source": [
        "rows = 10\n",
        "#outer loop\n",
        "for x in range (1,rows+1):\n",
        "  #inner loop\n",
        "  for y in range (1,x+1):\n",
        "    print('#', end=' ')\n",
        "  print('')"
      ],
      "metadata": {
        "id": "QGvOjLiYzw2y",
        "colab": {
          "base_uri": "https://localhost:8080/"
        },
        "outputId": "b8d98862-f30f-4c19-ec24-2d56817c4da1"
      },
      "execution_count": 12,
      "outputs": [
        {
          "output_type": "stream",
          "name": "stdout",
          "text": [
            "# \n",
            "# # \n",
            "# # # \n",
            "# # # # \n",
            "# # # # # \n",
            "# # # # # # \n",
            "# # # # # # # \n",
            "# # # # # # # # \n",
            "# # # # # # # # # \n",
            "# # # # # # # # # # \n"
          ]
        }
      ]
    },
    {
      "cell_type": "code",
      "source": [
        "num = [1,2,3,4,5]\n",
        "#outer loop\n",
        "for els in num:\n",
        "#inner loop\n",
        " index=0\n",
        " while index<len(num):\n",
        "    print(num[index],end=' ')\n",
        "    index=index+1\n",
        " print('\\n')  "
      ],
      "metadata": {
        "colab": {
          "base_uri": "https://localhost:8080/"
        },
        "id": "eqahiFBsoOwA",
        "outputId": "bf0693cf-0402-458a-fe22-03f9ca7b50a8"
      },
      "execution_count": 33,
      "outputs": [
        {
          "output_type": "stream",
          "name": "stdout",
          "text": [
            "1 2 3 4 5 \n",
            "\n",
            "1 2 3 4 5 \n",
            "\n",
            "1 2 3 4 5 \n",
            "\n",
            "1 2 3 4 5 \n",
            "\n",
            "1 2 3 4 5 \n",
            "\n"
          ]
        }
      ]
    },
    {
      "cell_type": "code",
      "source": [],
      "metadata": {
        "id": "4tlDFFOsoOZ9"
      },
      "execution_count": null,
      "outputs": []
    }
  ]
}