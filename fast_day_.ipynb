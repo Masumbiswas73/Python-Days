{
  "cells": [
    {
      "cell_type": "code",
      "execution_count": null,
      "metadata": {
        "colab": {
          "base_uri": "https://localhost:8080/"
        },
        "id": "uWSAjHGKa5-3",
        "outputId": "d6263ca9-5216-469e-ab0b-cdf4c6ccee62"
      },
      "outputs": [
        {
          "name": "stdout",
          "output_type": "stream",
          "text": [
            "<class 'float'>\n"
          ]
        }
      ],
      "source": [
        "# A variable is a container for a value,which can be of various types\n",
        "'''\n",
        "This is a \n",
        "multiline coment \n",
        "or docstring (used to define a funtion purpose)\n",
        "can be single or double quotes\n",
        "'''\n",
        "\"\"\"\n",
        "VARIABLE RULES:\n",
        "-varible name are case senstive \n",
        "-must start with a letter or an undersore\n",
        "-can have number but can not start with one\n",
        "\"\"\"\n",
        "# x = 1         #int\n",
        "# y = 2.5       #float\n",
        "# name = 'john' #str\n",
        "#is_cool = True #bool\n",
        "\n",
        "#Multiple assignment\n",
        "x,y,name,is_cool = (1,2.5,'john',True)\n",
        "#Basic math\n",
        "a = x+y\n",
        "print(type(a))"
      ]
    },
    {
      "cell_type": "code",
      "execution_count": null,
      "metadata": {
        "colab": {
          "base_uri": "https://localhost:8080/"
        },
        "id": "fueSkb9IkD5Z",
        "outputId": "816c753c-87fc-4c2e-a047-ba871de16f16"
      },
      "outputs": [
        {
          "name": "stdout",
          "output_type": "stream",
          "text": [
            "Hello world\n"
          ]
        }
      ],
      "source": [
        "print ('Hello world') "
      ]
    },
    {
      "cell_type": "code",
      "execution_count": null,
      "metadata": {
        "colab": {
          "base_uri": "https://localhost:8080/"
        },
        "id": "2gTV-9TAkF3f",
        "outputId": "801a4b32-3eb1-4b5f-fe8b-2d15ddef491d"
      },
      "outputs": [
        {
          "name": "stdout",
          "output_type": "stream",
          "text": [
            "Masum Utssowelcome to 30 day phyton*"
          ]
        }
      ],
      "source": [
        "print(\"Masum Utsso\" 'welcome to 30 day phyton',sep='&',end='*')"
      ]
    },
    {
      "cell_type": "code",
      "execution_count": null,
      "metadata": {
        "colab": {
          "base_uri": "https://localhost:8080/"
        },
        "id": "lCnBaoClkF63",
        "outputId": "4e21e590-9f6c-4d63-9b50-38cf857b7337"
      },
      "outputs": [
        {
          "name": "stdout",
          "output_type": "stream",
          "text": [
            "Masum Utsso\n"
          ]
        }
      ],
      "source": [
        "var='Masum Utsso'\n",
        "print(var)"
      ]
    },
    {
      "cell_type": "code",
      "execution_count": null,
      "metadata": {
        "colab": {
          "base_uri": "https://localhost:8080/"
        },
        "id": "31TuL07bkGTp",
        "outputId": "ec66f5d5-b08a-4e02-8076-0c3bb7e3a0a6"
      },
      "outputs": [
        {
          "name": "stdout",
          "output_type": "stream",
          "text": [
            "var\n"
          ]
        }
      ],
      "source": [
        "print('var')"
      ]
    },
    {
      "cell_type": "code",
      "execution_count": null,
      "metadata": {
        "colab": {
          "base_uri": "https://localhost:8080/"
        },
        "id": "RWKugkExkHMS",
        "outputId": "06b03082-74d1-4b18-e5b4-9ce631de2540"
      },
      "outputs": [
        {
          "name": "stdout",
          "output_type": "stream",
          "text": [
            "I am Masum Utsso\n"
          ]
        }
      ],
      "source": [
        "print('I am '+var)"
      ]
    },
    {
      "cell_type": "code",
      "execution_count": null,
      "metadata": {
        "colab": {
          "base_uri": "https://localhost:8080/"
        },
        "id": "eWhtPeOEkA-H",
        "outputId": "9f043f56-f4cb-4573-f9f5-f0a4eb05b07a"
      },
      "outputs": [
        {
          "data": {
            "text/plain": [
              "139639447829488"
            ]
          },
          "execution_count": 18,
          "metadata": {},
          "output_type": "execute_result"
        }
      ],
      "source": [
        "id(var)"
      ]
    },
    {
      "cell_type": "code",
      "execution_count": null,
      "metadata": {
        "colab": {
          "base_uri": "https://localhost:8080/"
        },
        "id": "-d26ra4KkBwb",
        "outputId": "568cb6b1-fb14-4f2d-ab0f-a684d563736f"
      },
      "outputs": [
        {
          "data": {
            "text/plain": [
              "60"
            ]
          },
          "execution_count": 19,
          "metadata": {},
          "output_type": "execute_result"
        }
      ],
      "source": [
        "import sys\n",
        "sys.getsizeof(var)"
      ]
    },
    {
      "cell_type": "code",
      "execution_count": null,
      "metadata": {
        "id": "-_JeKg-FsNGU"
      },
      "outputs": [],
      "source": [
        "x=100"
      ]
    },
    {
      "cell_type": "code",
      "execution_count": null,
      "metadata": {
        "colab": {
          "base_uri": "https://localhost:8080/"
        },
        "id": "D65c9kjrsNad",
        "outputId": "0eb6e26f-e7b4-46cf-87d4-6bbc9f2d8e1d"
      },
      "outputs": [
        {
          "data": {
            "text/plain": [
              "100"
            ]
          },
          "execution_count": 21,
          "metadata": {},
          "output_type": "execute_result"
        }
      ],
      "source": [
        "x"
      ]
    },
    {
      "cell_type": "code",
      "execution_count": null,
      "metadata": {
        "id": "2b0lldxjsNfu"
      },
      "outputs": [],
      "source": [
        "Var_2='100'"
      ]
    },
    {
      "cell_type": "markdown",
      "metadata": {
        "id": "vUvwpoCJlMDN"
      },
      "source": [
        "**Local** vs **global**"
      ]
    },
    {
      "cell_type": "code",
      "execution_count": null,
      "metadata": {
        "id": "thiZsxzesNl7"
      },
      "outputs": [],
      "source": [
        "#x=1000 #globar\n",
        "def func1():\n",
        "  x = 500 # local\n",
        "  print ('My Num is :' , x)\n"
      ]
    },
    {
      "cell_type": "code",
      "execution_count": null,
      "metadata": {
        "colab": {
          "base_uri": "https://localhost:8080/"
        },
        "id": "nHhiv1l7sNrJ",
        "outputId": "226b6d5d-9659-41ee-daf1-10ea984a7547"
      },
      "outputs": [
        {
          "data": {
            "text/plain": [
              "1000"
            ]
          },
          "execution_count": 13,
          "metadata": {},
          "output_type": "execute_result"
        }
      ],
      "source": [
        "x"
      ]
    },
    {
      "cell_type": "code",
      "execution_count": null,
      "metadata": {
        "id": "Epb3wSMBsNx5"
      },
      "outputs": [],
      "source": [
        "x= 1000   #globar\n",
        "def func1() :\n",
        "  x=500 #local\n",
        "  print('My Num is:' , x )"
      ]
    },
    {
      "cell_type": "code",
      "execution_count": null,
      "metadata": {
        "id": "L2gb3rmGsN34"
      },
      "outputs": [],
      "source": [
        "data='data science'"
      ]
    },
    {
      "cell_type": "code",
      "execution_count": null,
      "metadata": {
        "colab": {
          "base_uri": "https://localhost:8080/",
          "height": 35
        },
        "id": "SttjCpXcsN92",
        "outputId": "9d3a6477-57d7-4bbd-f238-32f4600e1f61"
      },
      "outputs": [
        {
          "data": {
            "application/vnd.google.colaboratory.intrinsic+json": {
              "type": "string"
            },
            "text/plain": [
              "'data science'"
            ]
          },
          "execution_count": 16,
          "metadata": {},
          "output_type": "execute_result"
        }
      ],
      "source": [
        "data"
      ]
    },
    {
      "cell_type": "code",
      "execution_count": null,
      "metadata": {
        "colab": {
          "base_uri": "https://localhost:8080/"
        },
        "id": "C-JMI8jDrdyZ",
        "outputId": "b91a4eed-78d2-48bb-de69-9b4bc11e6ea6"
      },
      "outputs": [
        {
          "data": {
            "text/plain": [
              "str"
            ]
          },
          "execution_count": 17,
          "metadata": {},
          "output_type": "execute_result"
        }
      ],
      "source": [
        "type(data)"
      ]
    },
    {
      "cell_type": "code",
      "execution_count": null,
      "metadata": {
        "colab": {
          "base_uri": "https://localhost:8080/"
        },
        "id": "WKQFLky_rdtQ",
        "outputId": "d5f2d284-ac2d-43d2-debd-977189fde941"
      },
      "outputs": [
        {
          "name": "stdout",
          "output_type": "stream",
          "text": [
            "10\n",
            "20\n"
          ]
        }
      ],
      "source": [
        "x = input()\n",
        "y = input()"
      ]
    },
    {
      "cell_type": "code",
      "execution_count": null,
      "metadata": {
        "colab": {
          "base_uri": "https://localhost:8080/",
          "height": 35
        },
        "id": "_iFlrFHQrdoi",
        "outputId": "9fb98010-fe85-49d0-f4b3-49a86dd66192"
      },
      "outputs": [
        {
          "data": {
            "application/vnd.google.colaboratory.intrinsic+json": {
              "type": "string"
            },
            "text/plain": [
              "'1020'"
            ]
          },
          "execution_count": 19,
          "metadata": {},
          "output_type": "execute_result"
        }
      ],
      "source": [
        "x+y"
      ]
    },
    {
      "cell_type": "code",
      "execution_count": null,
      "metadata": {
        "colab": {
          "base_uri": "https://localhost:8080/"
        },
        "id": "XZ0Fz3sirdk8",
        "outputId": "2352ae32-10dc-49d3-bb6e-51caa7404c64"
      },
      "outputs": [
        {
          "data": {
            "text/plain": [
              "str"
            ]
          },
          "execution_count": 21,
          "metadata": {},
          "output_type": "execute_result"
        }
      ],
      "source": [
        "type(x+y)"
      ]
    },
    {
      "cell_type": "code",
      "execution_count": null,
      "metadata": {
        "id": "tFpsZu9hs5jH"
      },
      "outputs": [],
      "source": [
        "x= int(x)\n",
        "y= int (y)"
      ]
    },
    {
      "cell_type": "code",
      "execution_count": null,
      "metadata": {
        "colab": {
          "base_uri": "https://localhost:8080/"
        },
        "id": "gicOetO8s5Os",
        "outputId": "f783f66c-4a89-41f5-bc99-594fcd5ada8a"
      },
      "outputs": [
        {
          "name": "stdout",
          "output_type": "stream",
          "text": [
            "1050\n",
            "2030\n"
          ]
        }
      ],
      "source": [
        "x=input(x)\n",
        "y=input(y)"
      ]
    },
    {
      "cell_type": "code",
      "execution_count": null,
      "metadata": {
        "colab": {
          "base_uri": "https://localhost:8080/",
          "height": 35
        },
        "id": "FyAUyW9_s5Mj",
        "outputId": "6d8eb99d-3dea-418c-cdc1-7e96f184270a"
      },
      "outputs": [
        {
          "data": {
            "application/vnd.google.colaboratory.intrinsic+json": {
              "type": "string"
            },
            "text/plain": [
              "'5030'"
            ]
          },
          "execution_count": 25,
          "metadata": {},
          "output_type": "execute_result"
        }
      ],
      "source": [
        "x+y"
      ]
    },
    {
      "cell_type": "code",
      "execution_count": null,
      "metadata": {
        "colab": {
          "base_uri": "https://localhost:8080/"
        },
        "id": "wASNfr5mt8Gi",
        "outputId": "2a327153-068b-41be-cc9a-ef5df4d21f84"
      },
      "outputs": [
        {
          "name": "stdout",
          "output_type": "stream",
          "text": [
            "Enter your fast number:30\n",
            "Enter your 2nd number:20\n"
          ]
        }
      ],
      "source": [
        "p= int(input('Enter your fast number:'))\n",
        "m= int(input('Enter your 2nd number:'))"
      ]
    },
    {
      "cell_type": "code",
      "execution_count": null,
      "metadata": {
        "colab": {
          "base_uri": "https://localhost:8080/"
        },
        "id": "xM3JUzkHt7rk",
        "outputId": "8068d8de-17b9-4d89-dad6-63f469cc9f84"
      },
      "outputs": [
        {
          "data": {
            "text/plain": [
              "50"
            ]
          },
          "execution_count": 28,
          "metadata": {},
          "output_type": "execute_result"
        }
      ],
      "source": [
        "p+m\n"
      ]
    },
    {
      "cell_type": "code",
      "execution_count": null,
      "metadata": {
        "colab": {
          "base_uri": "https://localhost:8080/"
        },
        "id": "ls4srypGt7mw",
        "outputId": "4efbd022-1f9b-4b30-dfc6-8107527ef30b"
      },
      "outputs": [
        {
          "name": "stdout",
          "output_type": "stream",
          "text": [
            "Enter your fast number:55\n",
            "Enter your 2nd number: 66\n",
            "121.0\n"
          ]
        }
      ],
      "source": [
        "x=float(input('Enter your fast number:'))\n",
        "y=float(input('Enter your 2nd number: '))\n",
        "print(x+y)"
      ]
    },
    {
      "cell_type": "code",
      "execution_count": null,
      "metadata": {
        "id": "E1N48CPOt7jN"
      },
      "outputs": [],
      "source": [
        "data='7 day a python'"
      ]
    },
    {
      "cell_type": "code",
      "execution_count": null,
      "metadata": {
        "colab": {
          "base_uri": "https://localhost:8080/"
        },
        "id": "EJbI-ChLs5IJ",
        "outputId": "1ea450ef-7dc3-42bb-8866-5a3c9c902aa1"
      },
      "outputs": [
        {
          "data": {
            "text/plain": [
              "63"
            ]
          },
          "execution_count": 32,
          "metadata": {},
          "output_type": "execute_result"
        }
      ],
      "source": [
        "import sys\n",
        "sys.getsizeof(data)"
      ]
    },
    {
      "cell_type": "code",
      "execution_count": null,
      "metadata": {
        "colab": {
          "base_uri": "https://localhost:8080/"
        },
        "id": "jFfMxIiNs5Fx",
        "outputId": "72da04cc-7725-42e5-b908-674259265008"
      },
      "outputs": [
        {
          "data": {
            "text/plain": [
              "1"
            ]
          },
          "execution_count": 37,
          "metadata": {},
          "output_type": "execute_result"
        }
      ],
      "source": [
        "data.count('7')"
      ]
    },
    {
      "cell_type": "code",
      "execution_count": null,
      "metadata": {
        "id": "p5CRUNEzs5Dg"
      },
      "outputs": [],
      "source": [
        "sub='7 day'"
      ]
    },
    {
      "cell_type": "code",
      "execution_count": null,
      "metadata": {
        "colab": {
          "base_uri": "https://localhost:8080/"
        },
        "id": "oCSvWhr7s4_X",
        "outputId": "b27fb867-dd7e-460d-fb7f-8ddf25afac17"
      },
      "outputs": [
        {
          "data": {
            "text/plain": [
              "1"
            ]
          },
          "execution_count": 43,
          "metadata": {},
          "output_type": "execute_result"
        }
      ],
      "source": [
        "data.count(sub)"
      ]
    },
    {
      "cell_type": "markdown",
      "metadata": {
        "id": "0ZPkEjndCJeN"
      },
      "source": [
        "***str mathdo***"
      ]
    },
    {
      "cell_type": "code",
      "execution_count": null,
      "metadata": {
        "id": "sXAI4TrCCHkW"
      },
      "outputs": [],
      "source": [
        "Data= 'Masum Utsso is good boy'"
      ]
    },
    {
      "cell_type": "code",
      "execution_count": null,
      "metadata": {
        "colab": {
          "base_uri": "https://localhost:8080/",
          "height": 35
        },
        "id": "lr7D3kcJCHhn",
        "outputId": "3c9305e6-992d-44b5-d3f7-82304e358f0a"
      },
      "outputs": [
        {
          "data": {
            "application/vnd.google.colaboratory.intrinsic+json": {
              "type": "string"
            },
            "text/plain": [
              "'masum utsso is good boy'"
            ]
          },
          "execution_count": 45,
          "metadata": {},
          "output_type": "execute_result"
        }
      ],
      "source": [
        "Data.lower()"
      ]
    },
    {
      "cell_type": "code",
      "execution_count": null,
      "metadata": {
        "colab": {
          "base_uri": "https://localhost:8080/",
          "height": 35
        },
        "id": "DcurHNAICHeZ",
        "outputId": "8070ce7d-d90c-4447-a0d0-7911b5665075"
      },
      "outputs": [
        {
          "data": {
            "application/vnd.google.colaboratory.intrinsic+json": {
              "type": "string"
            },
            "text/plain": [
              "'MASUM UTSSO IS GOOD BOY'"
            ]
          },
          "execution_count": 46,
          "metadata": {},
          "output_type": "execute_result"
        }
      ],
      "source": [
        "Data.upper()"
      ]
    },
    {
      "cell_type": "code",
      "execution_count": null,
      "metadata": {
        "colab": {
          "base_uri": "https://localhost:8080/",
          "height": 35
        },
        "id": "BWK5tIE_CHab",
        "outputId": "5ae20ed7-92c8-4d5c-a391-f788ed389ed3"
      },
      "outputs": [
        {
          "data": {
            "application/vnd.google.colaboratory.intrinsic+json": {
              "type": "string"
            },
            "text/plain": [
              "'Masum utsso is good boy'"
            ]
          },
          "execution_count": 47,
          "metadata": {},
          "output_type": "execute_result"
        }
      ],
      "source": [
        "Data.capitalize()"
      ]
    },
    {
      "cell_type": "code",
      "execution_count": null,
      "metadata": {
        "colab": {
          "base_uri": "https://localhost:8080/",
          "height": 35
        },
        "id": "axxUwX1uCHTl",
        "outputId": "9cf8dd6b-2170-4a22-acfb-44ae07fcfed0"
      },
      "outputs": [
        {
          "data": {
            "application/vnd.google.colaboratory.intrinsic+json": {
              "type": "string"
            },
            "text/plain": [
              "'mASUM uTSSO IS GOOD BOY'"
            ]
          },
          "execution_count": 48,
          "metadata": {},
          "output_type": "execute_result"
        }
      ],
      "source": [
        "Data.swapcase() # big world small hoba"
      ]
    },
    {
      "cell_type": "code",
      "execution_count": null,
      "metadata": {
        "colab": {
          "base_uri": "https://localhost:8080/",
          "height": 35
        },
        "id": "aMPKz2s5CHQz",
        "outputId": "837e92a2-c4a3-4b4c-ac75-a50378d3f1eb"
      },
      "outputs": [
        {
          "data": {
            "application/vnd.google.colaboratory.intrinsic+json": {
              "type": "string"
            },
            "text/plain": [
              "'Masum Utsso Is Good Boy'"
            ]
          },
          "execution_count": 49,
          "metadata": {},
          "output_type": "execute_result"
        }
      ],
      "source": [
        "Data.title() # Every 1st world big hoba"
      ]
    },
    {
      "cell_type": "code",
      "execution_count": null,
      "metadata": {
        "colab": {
          "base_uri": "https://localhost:8080/"
        },
        "id": "rfFDgWc8CHM0",
        "outputId": "47460226-4bd6-486e-ea66-481079314efa"
      },
      "outputs": [
        {
          "data": {
            "text/plain": [
              "False"
            ]
          },
          "execution_count": 50,
          "metadata": {},
          "output_type": "execute_result"
        }
      ],
      "source": [
        "Data.islower()"
      ]
    },
    {
      "cell_type": "code",
      "execution_count": null,
      "metadata": {
        "colab": {
          "base_uri": "https://localhost:8080/"
        },
        "id": "kJHFdRIQCHJ8",
        "outputId": "47fc5f79-505d-427a-dab9-5100cdd8a816"
      },
      "outputs": [
        {
          "data": {
            "text/plain": [
              "False"
            ]
          },
          "execution_count": 51,
          "metadata": {},
          "output_type": "execute_result"
        }
      ],
      "source": [
        "Data.isupper()"
      ]
    },
    {
      "cell_type": "code",
      "execution_count": null,
      "metadata": {
        "colab": {
          "background_save": true
        },
        "id": "wn5yQyBUCHEU",
        "outputId": "4dd3a33d-8762-40bb-dee7-1ede086100e0"
      },
      "outputs": [
        {
          "data": {
            "text/plain": [
              "False"
            ]
          },
          "execution_count": 53,
          "metadata": {},
          "output_type": "execute_result"
        }
      ],
      "source": []
    },
    {
      "cell_type": "code",
      "execution_count": null,
      "metadata": {
        "colab": {
          "background_save": true
        },
        "id": "56FZXrgjCHBS",
        "outputId": "b40759ae-d92f-41af-fa51-8319e602cb3c"
      },
      "outputs": [
        {
          "data": {
            "text/plain": [
              "b'7 day a python'"
            ]
          },
          "execution_count": 54,
          "metadata": {},
          "output_type": "execute_result"
        }
      ],
      "source": []
    },
    {
      "cell_type": "code",
      "execution_count": null,
      "metadata": {
        "id": "hfSgaS4-CG9O"
      },
      "outputs": [],
      "source": []
    },
    {
      "cell_type": "code",
      "execution_count": null,
      "metadata": {
        "id": "MpROd5dDCG39"
      },
      "outputs": [],
      "source": []
    }
  ],
  "metadata": {
    "colab": {
      "provenance": []
    },
    "kernelspec": {
      "display_name": "Python 3",
      "name": "python3"
    },
    "language_info": {
      "name": "python"
    }
  },
  "nbformat": 4,
  "nbformat_minor": 0
}